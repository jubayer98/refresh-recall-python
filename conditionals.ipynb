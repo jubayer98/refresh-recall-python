{
 "cells": [
  {
   "cell_type": "markdown",
   "id": "ba340421",
   "metadata": {},
   "source": [
    "Part 1: BMI Category Checker"
   ]
  },
  {
   "cell_type": "code",
   "execution_count": null,
   "id": "7ad4e8aa-2a9f-40d5-9303-af45dfb3056a",
   "metadata": {},
   "outputs": [],
   "source": [
    "# Get user input\n",
    "height = float(input(\"Enter your height in meters: \"))\n",
    "weight = float(input(\"Enter your weight in kg: \"))\n",
    "\n",
    "# Calculate BMI\n",
    "bmi = weight / (height ** 2)\n",
    "print(f\"Your BMI is: {bmi:.2f}\")\n",
    "\n",
    "# Check BMI category\n",
    "if bmi >= 30:\n",
    "    print(\"Category: Obesity\")\n",
    "elif 25 <= bmi < 30:\n",
    "    print(\"Category: Overweight\")\n",
    "elif 18.5 <= bmi < 25:\n",
    "    print(\"Category: Normal\")\n",
    "else:\n",
    "    print(\"Category: Underweight\")"
   ]
  },
  {
   "cell_type": "markdown",
   "id": "620ffe37-1ce4-41ae-8d07-821821ab5630",
   "metadata": {},
   "source": [
    "Part 2: Identify Country from City Name"
   ]
  },
  {
   "cell_type": "code",
   "execution_count": 2,
   "id": "d4585850-c510-4c23-8867-d6d2153bda43",
   "metadata": {},
   "outputs": [
    {
     "name": "stdin",
     "output_type": "stream",
     "text": [
      "Enter a city name:  london\n"
     ]
    },
    {
     "name": "stdout",
     "output_type": "stream",
     "text": [
      "Sorry, we don't have data for london.\n"
     ]
    }
   ],
   "source": [
    "# Country-city data\n",
    "India = [\"Mumbai\", \"Bangalore\", \"Chennai\", \"Delhi\"]\n",
    "USA = [\"New York\", \"Chicago\", \"Las Vegas\", \"San Francisco\"]\n",
    "UK = [\"London\", \"Manchester\", \"Liverpool\", \"Nottingham\"]\n",
    "\n",
    "# Get city name from user\n",
    "city = input(\"Enter a city name: \")\n",
    "\n",
    "# Check which country it belongs to\n",
    "if city in India:\n",
    "    print(f\"{city} is in India.\")\n",
    "elif city in USA:\n",
    "    print(f\"{city} is in the USA.\")\n",
    "elif city in UK:\n",
    "    print(f\"{city} is in the UK.\")\n",
    "else:\n",
    "    print(f\"Sorry, we don't have data for {city}.\")"
   ]
  },
  {
   "cell_type": "markdown",
   "id": "6a966476-bb01-4237-98ae-821c44cedb2d",
   "metadata": {},
   "source": [
    " Part 3: Check if Two Cities Are in the Same Country"
   ]
  },
  {
   "cell_type": "code",
   "execution_count": 3,
   "id": "9f345d20-2489-4dbf-bf11-f68488adf95a",
   "metadata": {},
   "outputs": [
    {
     "name": "stdin",
     "output_type": "stream",
     "text": [
      "Enter first city:  London\n",
      "Enter second city:  Dhaka\n"
     ]
    },
    {
     "name": "stdout",
     "output_type": "stream",
     "text": [
      "One or both cities are not in our database.\n"
     ]
    }
   ],
   "source": [
    "# Country-city data (reuse from above)\n",
    "\n",
    "# Get two city names\n",
    "city1 = input(\"Enter first city: \")\n",
    "city2 = input(\"Enter second city: \")\n",
    "\n",
    "def find_country(city):\n",
    "    if city in India:\n",
    "        return \"India\"\n",
    "    elif city in USA:\n",
    "        return \"USA\"\n",
    "    elif city in UK:\n",
    "        return \"UK\"\n",
    "    else:\n",
    "        return None\n",
    "\n",
    "# Determine countries\n",
    "country1 = find_country(city1)\n",
    "country2 = find_country(city2)\n",
    "\n",
    "# Compare and print result\n",
    "if country1 and country2:\n",
    "    if country1 == country2:\n",
    "        print(f\"Both cities are in {country1}.\")\n",
    "    else:\n",
    "        print(\"They don't belong to the same country.\")\n",
    "else:\n",
    "    print(\"One or both cities are not in our database.\")"
   ]
  }
 ],
 "metadata": {
  "kernelspec": {
   "display_name": "Python 3 (ipykernel)",
   "language": "python",
   "name": "python3"
  },
  "language_info": {
   "codemirror_mode": {
    "name": "ipython",
    "version": 3
   },
   "file_extension": ".py",
   "mimetype": "text/x-python",
   "name": "python",
   "nbconvert_exporter": "python",
   "pygments_lexer": "ipython3",
   "version": "3.11.4"
  }
 },
 "nbformat": 4,
 "nbformat_minor": 5
}
