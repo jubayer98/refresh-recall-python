{
 "cells": [
  {
   "cell_type": "markdown",
   "id": "cf58a238-760b-411c-9ca3-9a054d7635a3",
   "metadata": {},
   "source": [
    "1. Check if a Number is Prime and Odd"
   ]
  },
  {
   "cell_type": "code",
   "execution_count": 1,
   "id": "96321d1b-713c-41f8-a4f6-68f5cb4e1c77",
   "metadata": {},
   "outputs": [
    {
     "name": "stdout",
     "output_type": "stream",
     "text": [
      "True\n",
      "False\n"
     ]
    }
   ],
   "source": [
    "def is_prime_and_odd(n):\n",
    "    if n < 2 or n % 2 == 0:\n",
    "        return False\n",
    "    for i in range(2, int(n**0.5) + 1):\n",
    "        if n % i == 0:\n",
    "            return False\n",
    "    return True\n",
    "\n",
    "# Example usage:\n",
    "print(is_prime_and_odd(7))   # True\n",
    "print(is_prime_and_odd(4))   # False"
   ]
  },
  {
   "cell_type": "markdown",
   "id": "04ac56d6-987a-4f7a-980f-352615fa1a78",
   "metadata": {},
   "source": [
    "2. Print Pattern with Optional Flip if Even"
   ]
  },
  {
   "cell_type": "code",
   "execution_count": 2,
   "id": "0a888bc8-7512-4321-b728-92ec557f9c1a",
   "metadata": {},
   "outputs": [],
   "source": [
    "def print_pattern(n):\n",
    "    if n % 2 != 0:\n",
    "        for i in range(1, n + 1):\n",
    "            print(\"* \" * i)\n",
    "    else:\n",
    "        for i in range(n, 0, -1):\n",
    "            print(\"* \" * i)\n",
    "\n",
    "# Example:\n",
    "# print_pattern(3)\n",
    "# print_pattern(4)"
   ]
  },
  {
   "cell_type": "markdown",
   "id": "c7ae39d5-175d-4166-a20e-d5190820d38b",
   "metadata": {},
   "source": [
    "3. Master Yoda Sentence Reverser"
   ]
  },
  {
   "cell_type": "code",
   "execution_count": 3,
   "id": "2352be61-c186-4561-bc4c-f42cadc74a71",
   "metadata": {},
   "outputs": [
    {
     "name": "stdout",
     "output_type": "stream",
     "text": [
      "Python learn must You\n"
     ]
    }
   ],
   "source": [
    "def master_yoda(sentence):\n",
    "    words = sentence.split()\n",
    "    return ' '.join(reversed(words))\n",
    "\n",
    "# Example:\n",
    "print(master_yoda(\"You must learn Python\"))  \n",
    "# Output: \"Python learn must You\""
   ]
  },
  {
   "cell_type": "markdown",
   "id": "19523c38-56a2-4431-ac1b-058f0e7c8bb5",
   "metadata": {},
   "source": [
    "4. Bill Calculator with Optional Commission and Offer"
   ]
  },
  {
   "cell_type": "code",
   "execution_count": 4,
   "id": "0a9d7ca2-98db-4423-bfc8-d48d1b7c9535",
   "metadata": {},
   "outputs": [
    {
     "name": "stdout",
     "output_type": "stream",
     "text": [
      "1866.6\n",
      "1887.0\n"
     ]
    }
   ],
   "source": [
    "def pay_bill(expenses, percent_commission=9.8, special_offer_amount=None):\n",
    "    total = sum(expenses)\n",
    "    commission_rate = percent_commission\n",
    "\n",
    "    if special_offer_amount is not None and total > special_offer_amount:\n",
    "        commission_rate += 1.2\n",
    "\n",
    "    final_amount = total + (total * commission_rate / 100)\n",
    "    return round(final_amount, 2)\n",
    "\n",
    "# Example:\n",
    "expenses = [1000, 500, 200]\n",
    "print(pay_bill(expenses))  # Default commission\n",
    "print(pay_bill(expenses, special_offer_amount=1500))  # Extra commission applied"
   ]
  }
 ],
 "metadata": {
  "kernelspec": {
   "display_name": "Python 3 (ipykernel)",
   "language": "python",
   "name": "python3"
  },
  "language_info": {
   "codemirror_mode": {
    "name": "ipython",
    "version": 3
   },
   "file_extension": ".py",
   "mimetype": "text/x-python",
   "name": "python",
   "nbconvert_exporter": "python",
   "pygments_lexer": "ipython3",
   "version": "3.11.4"
  }
 },
 "nbformat": 4,
 "nbformat_minor": 5
}
