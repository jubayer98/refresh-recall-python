{
 "cells": [
  {
   "cell_type": "markdown",
   "id": "d6cf6eca-fd5a-4d12-acc6-e4c2323fa340",
   "metadata": {},
   "source": [
    "1. Create List of Tuples: (Name, Length of Name)"
   ]
  },
  {
   "cell_type": "code",
   "execution_count": 1,
   "id": "8085f526-5d76-4842-bbb1-f96181fe2a6c",
   "metadata": {},
   "outputs": [
    {
     "name": "stdout",
     "output_type": "stream",
     "text": [
      "Friend Name Tuples: [('Aditya', 6), ('Rohan', 5), ('Priya', 5), ('Sakshi', 6), ('Neha', 4)]\n"
     ]
    }
   ],
   "source": [
    "friends = [\"Aditya\", \"Rohan\", \"Priya\", \"Sakshi\", \"Neha\"]\n",
    "friends_with_length = [(name, len(name)) for name in friends]\n",
    "\n",
    "print(\"Friend Name Tuples:\", friends_with_length)"
   ]
  },
  {
   "cell_type": "markdown",
   "id": "3080e3dd-965c-4f5c-b604-1caf599d4587",
   "metadata": {},
   "source": [
    "2. Compare Monthly Expenses (You vs Wife)"
   ]
  },
  {
   "cell_type": "markdown",
   "id": "68ed515b-53e1-423d-9796-5865f15f6077",
   "metadata": {},
   "source": [
    "Your expenses:"
   ]
  },
  {
   "cell_type": "code",
   "execution_count": 2,
   "id": "039aaf90-0c36-464a-9b67-a9607c112180",
   "metadata": {},
   "outputs": [],
   "source": [
    "your_expenses = {\n",
    "    \"Clothes\": 1100,\n",
    "    \"Shoes\": 1000,\n",
    "    \"Watch\": 900,\n",
    "    \"Mobile Recharge\": 699,\n",
    "    \"Petrol\": 1980\n",
    "}"
   ]
  },
  {
   "cell_type": "markdown",
   "id": "8901277c-db12-4c04-ba11-a5dd3a53c9fa",
   "metadata": {},
   "source": [
    "Wife's expenses:"
   ]
  },
  {
   "cell_type": "code",
   "execution_count": 3,
   "id": "a5bb0617-c9ec-431e-96ea-713d5002de6b",
   "metadata": {},
   "outputs": [],
   "source": [
    "wife_expenses = {\n",
    "    \"Mobile Recharge\": 799,\n",
    "    \"DTH recharge\": 999,\n",
    "    \"Clothes\": 2310,\n",
    "    \"Makeup\": 3670,\n",
    "    \"Shoes\": 999\n",
    "}"
   ]
  },
  {
   "cell_type": "markdown",
   "id": "491d248d-e842-47af-9ac2-3599c7d09159",
   "metadata": {},
   "source": [
    "A. Total Expenses of Each"
   ]
  },
  {
   "cell_type": "code",
   "execution_count": 4,
   "id": "5039478b-1b61-4dfc-8e85-d5817f29caff",
   "metadata": {},
   "outputs": [
    {
     "name": "stdout",
     "output_type": "stream",
     "text": [
      "Your total expenses: 5679\n",
      "Wife's total expenses: 8777\n"
     ]
    }
   ],
   "source": [
    "your_total = sum(your_expenses.values())\n",
    "wife_total = sum(wife_expenses.values())\n",
    "\n",
    "print(\"Your total expenses:\", your_total)\n",
    "print(\"Wife's total expenses:\", wife_total)"
   ]
  },
  {
   "cell_type": "markdown",
   "id": "1bddae1b-d812-4992-b3f7-766be8bc7814",
   "metadata": {},
   "source": [
    "B. Who Spent More?"
   ]
  },
  {
   "cell_type": "code",
   "execution_count": 5,
   "id": "f073b907-636d-4340-affd-6396de3c147c",
   "metadata": {},
   "outputs": [
    {
     "name": "stdout",
     "output_type": "stream",
     "text": [
      "Your wife is spending more.\n"
     ]
    }
   ],
   "source": [
    "if your_total > wife_total:\n",
    "    print(\"You are spending more.\")\n",
    "elif wife_total > your_total:\n",
    "    print(\"Your wife is spending more.\")\n",
    "else:\n",
    "    print(\"You both spent equally.\")"
   ]
  },
  {
   "cell_type": "markdown",
   "id": "bbe0d83c-9de3-4bb3-b20c-f9d2eca37e33",
   "metadata": {},
   "source": [
    "C. Find Common Expenses & Who Spent More on Them"
   ]
  },
  {
   "cell_type": "code",
   "execution_count": 6,
   "id": "532d5509-f4c5-4502-87f0-f0573d673665",
   "metadata": {},
   "outputs": [
    {
     "name": "stdout",
     "output_type": "stream",
     "text": [
      "Your wife spent more on Clothes (You: 1100, Wife: 2310)\n",
      "You spent more on Shoes (You: 1000, Wife: 999)\n",
      "Your wife spent more on Mobile Recharge (You: 699, Wife: 799)\n"
     ]
    }
   ],
   "source": [
    "common_items = set(your_expenses.keys()) & set(wife_expenses.keys())\n",
    "\n",
    "for item in common_items:\n",
    "    your_spend = your_expenses[item]\n",
    "    wife_spend = wife_expenses[item]\n",
    "    \n",
    "    if your_spend > wife_spend:\n",
    "        print(f\"You spent more on {item} (You: {your_spend}, Wife: {wife_spend})\")\n",
    "    elif wife_spend > your_spend:\n",
    "        print(f\"Your wife spent more on {item} (You: {your_spend}, Wife: {wife_spend})\")\n",
    "    else:\n",
    "        print(f\"Both spent the same on {item}\")"
   ]
  }
 ],
 "metadata": {
  "kernelspec": {
   "display_name": "Python 3 (ipykernel)",
   "language": "python",
   "name": "python3"
  },
  "language_info": {
   "codemirror_mode": {
    "name": "ipython",
    "version": 3
   },
   "file_extension": ".py",
   "mimetype": "text/x-python",
   "name": "python",
   "nbconvert_exporter": "python",
   "pygments_lexer": "ipython3",
   "version": "3.11.4"
  }
 },
 "nbformat": 4,
 "nbformat_minor": 5
}
