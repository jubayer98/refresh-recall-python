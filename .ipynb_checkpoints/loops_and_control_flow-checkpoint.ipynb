{
 "cells": [
  {
   "cell_type": "markdown",
   "id": "8393fdeb-5013-41ef-bddd-3ccb5c4f1c3e",
   "metadata": {},
   "source": [
    "1. Pattern Printing"
   ]
  },
  {
   "cell_type": "code",
   "execution_count": 1,
   "id": "cc29b3e1-9ada-4673-b759-3fd4cb107999",
   "metadata": {},
   "outputs": [
    {
     "name": "stdout",
     "output_type": "stream",
     "text": [
      "1 2 3 4 5 \n",
      "1 2 3 4 \n",
      "1 2 3 \n",
      "1 2 \n",
      "1 \n"
     ]
    }
   ],
   "source": [
    "for i in range(5, 0, -1):\n",
    "    for j in range(1, i+1):\n",
    "        print(j, end=\" \")\n",
    "    print()"
   ]
  },
  {
   "cell_type": "markdown",
   "id": "f69cb6c9-0ed3-4dc5-9dbb-f706ebf146bd",
   "metadata": {},
   "source": [
    "2. Sum of All Even Numbers from 1 to 20 (using for and while)"
   ]
  },
  {
   "cell_type": "markdown",
   "id": "c4cb2ac5-6677-48e3-9342-5e6447be42af",
   "metadata": {},
   "source": [
    "Using for loop:"
   ]
  },
  {
   "cell_type": "code",
   "execution_count": 2,
   "id": "bff169e2-1dd6-4130-bbd9-fffc2bff302e",
   "metadata": {},
   "outputs": [
    {
     "name": "stdout",
     "output_type": "stream",
     "text": [
      "Sum of even numbers (for loop): 110\n"
     ]
    }
   ],
   "source": [
    "total = 0\n",
    "for i in range(1, 21):\n",
    "    if i % 2 == 0:\n",
    "        total += i\n",
    "print(\"Sum of even numbers (for loop):\", total)"
   ]
  },
  {
   "cell_type": "markdown",
   "id": "e19ca6e6-94c5-4be7-b1a6-f44703a5851d",
   "metadata": {},
   "source": [
    "Using while loop:"
   ]
  },
  {
   "cell_type": "code",
   "execution_count": 3,
   "id": "86d1b76c-6ed5-4b4a-b12d-732eb1a7b759",
   "metadata": {},
   "outputs": [
    {
     "name": "stdout",
     "output_type": "stream",
     "text": [
      "Sum of even numbers (while loop): 110\n"
     ]
    }
   ],
   "source": [
    "total = 0\n",
    "i = 1\n",
    "while i <= 20:\n",
    "    if i % 2 == 0:\n",
    "        total += i\n",
    "    i += 1\n",
    "print(\"Sum of even numbers (while loop):\", total)"
   ]
  },
  {
   "cell_type": "markdown",
   "id": "7360622b-3b9a-4183-a9f7-4e6a2f2ff2db",
   "metadata": {},
   "source": [
    "3. Dice Result Analysis"
   ]
  },
  {
   "cell_type": "code",
   "execution_count": 4,
   "id": "7cf45465-203f-4fa9-b896-475cb69b8181",
   "metadata": {},
   "outputs": [
    {
     "name": "stdout",
     "output_type": "stream",
     "text": [
      "Number of times 6 appeared: 3\n",
      "Number of times 1 appeared: 3\n",
      "Number of times 6 appeared two times in a row: 0\n"
     ]
    }
   ],
   "source": [
    "dice_result  = [5,6,4,2,5,4,4,5,3,3,2,6,1,2,1,1,6,5]\n",
    "\n",
    "count_6 = 0\n",
    "count_1 = 0\n",
    "count_6_twice = 0\n",
    "\n",
    "for i in range(len(dice_result)):\n",
    "    if dice_result[i] == 6:\n",
    "        count_6 += 1\n",
    "    if dice_result[i] == 1:\n",
    "        count_1 += 1\n",
    "    if i < len(dice_result) - 1 and dice_result[i] == 6 and dice_result[i+1] == 6:\n",
    "        count_6_twice += 1\n",
    "\n",
    "print(\"Number of times 6 appeared:\", count_6)\n",
    "print(\"Number of times 1 appeared:\", count_1)\n",
    "print(\"Number of times 6 appeared two times in a row:\", count_6_twice)"
   ]
  },
  {
   "cell_type": "markdown",
   "id": "8dc8f936-38c7-40fc-bdf5-af6cee4773ed",
   "metadata": {},
   "source": [
    "4. Push-Up Tracker with Tired Check"
   ]
  },
  {
   "cell_type": "code",
   "execution_count": 5,
   "id": "7f3813c8-4cb8-4759-9956-ca6e254f8f35",
   "metadata": {},
   "outputs": [
    {
     "name": "stdin",
     "output_type": "stream",
     "text": [
      "Are you tired? (yes/no):  no\n"
     ]
    },
    {
     "name": "stdout",
     "output_type": "stream",
     "text": [
      "40 push-ups remaining...\n"
     ]
    },
    {
     "name": "stdin",
     "output_type": "stream",
     "text": [
      "Are you tired? (yes/no):  no\n"
     ]
    },
    {
     "name": "stdout",
     "output_type": "stream",
     "text": [
      "30 push-ups remaining...\n"
     ]
    },
    {
     "name": "stdin",
     "output_type": "stream",
     "text": [
      "Are you tired? (yes/no):  yes\n"
     ]
    },
    {
     "name": "stdout",
     "output_type": "stream",
     "text": [
      "You did a total of 30 push-ups.\n"
     ]
    }
   ],
   "source": [
    "total_pushups = 0\n",
    "\n",
    "while total_pushups < 50:\n",
    "    total_pushups += 10\n",
    "    answer = input(\"Are you tired? (yes/no): \").strip().lower()\n",
    "    \n",
    "    if answer in [\"yes\", \"y\"]:\n",
    "        print(f\"You did a total of {total_pushups} push-ups.\")\n",
    "        break\n",
    "    elif total_pushups < 50:\n",
    "        print(f\"{50 - total_pushups} push-ups remaining...\")\n",
    "\n",
    "if total_pushups >= 50:\n",
    "    print(\"Congratulations! You made it.\")"
   ]
  },
  {
   "cell_type": "code",
   "execution_count": null,
   "id": "585d5dc6-b0ba-449c-a8a1-30c13a95e093",
   "metadata": {},
   "outputs": [],
   "source": []
  }
 ],
 "metadata": {
  "kernelspec": {
   "display_name": "Python 3 (ipykernel)",
   "language": "python",
   "name": "python3"
  },
  "language_info": {
   "codemirror_mode": {
    "name": "ipython",
    "version": 3
   },
   "file_extension": ".py",
   "mimetype": "text/x-python",
   "name": "python",
   "nbconvert_exporter": "python",
   "pygments_lexer": "ipython3",
   "version": "3.11.4"
  }
 },
 "nbformat": 4,
 "nbformat_minor": 5
}
