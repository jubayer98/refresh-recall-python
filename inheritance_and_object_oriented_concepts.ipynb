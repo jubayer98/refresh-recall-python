{
 "cells": [
  {
   "cell_type": "markdown",
   "id": "77424e8c-8a5b-497f-bf64-93a278c4ba89",
   "metadata": {},
   "source": [
    "Step 1: Define the MobilePhone base class"
   ]
  },
  {
   "cell_type": "code",
   "execution_count": 3,
   "id": "78bd0a02-3ec7-4dbe-a56e-0b21b1b38a96",
   "metadata": {},
   "outputs": [],
   "source": [
    "class MobilePhone:\n",
    "    def __init__(self, dual_sim, front_camera, rear_camera, ram, storage):\n",
    "        self.screen_type = \"Touch Screen\"\n",
    "        self.network_type = \"4G/5G\"\n",
    "        self.dual_sim = dual_sim\n",
    "        self.front_camera = front_camera\n",
    "        self.rear_camera = rear_camera\n",
    "        self.ram = ram\n",
    "        self.storage = storage\n",
    "\n",
    "    def make_call(self, number):\n",
    "        print(f\"Calling {number}...\")\n",
    "\n",
    "    def receive_call(self):\n",
    "        print(\"Incoming call...\")\n",
    "\n",
    "    def take_a_picture(self, camera=\"rear\"):\n",
    "        if camera == \"front\":\n",
    "            print(f\"Taking a selfie with {self.front_camera} front camera\")\n",
    "        else:\n",
    "            print(f\"Taking a photo with {self.rear_camera} rear camera\")\n",
    "\n",
    "    def get_specs(self):\n",
    "        print(f\"Screen Type : {self.screen_type}\")\n",
    "        print(f\"Network     : {self.network_type}\")\n",
    "        print(f\"Dual SIM    : {self.dual_sim}\")\n",
    "        print(f\"Front Cam   : {self.front_camera}\")\n",
    "        print(f\"Rear Cam    : {self.rear_camera}\")\n",
    "        print(f\"RAM         : {self.ram}\")\n",
    "        print(f\"Storage     : {self.storage}\")\n",
    "        print(\"-\" * 40)"
   ]
  },
  {
   "cell_type": "markdown",
   "id": "67a25b13-be60-40b3-940a-f44ffbd36403",
   "metadata": {},
   "source": [
    "Step 2: Define Apple child class"
   ]
  },
  {
   "cell_type": "code",
   "execution_count": 4,
   "id": "4ffdddef-df75-482b-bf03-1c1294ab08d1",
   "metadata": {},
   "outputs": [],
   "source": [
    "class Apple(MobilePhone):\n",
    "    def __init__(self, model, dual_sim, front_camera, rear_camera, ram, storage):\n",
    "        super().__init__(dual_sim, front_camera, rear_camera, ram, storage)\n",
    "        self.brand = \"Apple\"\n",
    "        self.model = model\n",
    "\n",
    "    def get_specs(self):\n",
    "        print(f\"{self.brand} - {self.model}\")\n",
    "        super().get_specs()"
   ]
  },
  {
   "cell_type": "markdown",
   "id": "37bb5df7-d0cb-4705-95ff-4785bd436318",
   "metadata": {},
   "source": [
    "Step 3: Define Samsung child class"
   ]
  },
  {
   "cell_type": "code",
   "execution_count": 6,
   "id": "87f9dcfd-cadc-4cd8-8bc1-20092b513af8",
   "metadata": {},
   "outputs": [],
   "source": [
    "class Samsung(MobilePhone):\n",
    "    def __init__(self, model, dual_sim, front_camera, rear_camera, ram, storage):\n",
    "        super().__init__(dual_sim, front_camera, rear_camera, ram, storage)\n",
    "        self.brand = \"Samsung\"\n",
    "        self.model = model\n",
    "\n",
    "    def get_specs(self):\n",
    "        print(f\"{self.brand} - {self.model}\")\n",
    "        super().get_specs()"
   ]
  },
  {
   "cell_type": "markdown",
   "id": "52e35030-3549-4a89-8e7c-ee10fcb7b3db",
   "metadata": {},
   "source": [
    "Step 4: Create Objects and Use Methods"
   ]
  },
  {
   "cell_type": "code",
   "execution_count": 7,
   "id": "c518cd8a-301b-4b6a-8650-4d611126a600",
   "metadata": {},
   "outputs": [
    {
     "name": "stdout",
     "output_type": "stream",
     "text": [
      "Apple - iPhone 14\n",
      "Screen Type : Touch Screen\n",
      "Network     : 4G/5G\n",
      "Dual SIM    : False\n",
      "Front Cam   : 12MP\n",
      "Rear Cam    : 48MP\n",
      "RAM         : 4GB\n",
      "Storage     : 128GB\n",
      "----------------------------------------\n",
      "Apple - iPhone SE\n",
      "Screen Type : Touch Screen\n",
      "Network     : 4G/5G\n",
      "Dual SIM    : False\n",
      "Front Cam   : 7MP\n",
      "Rear Cam    : 12MP\n",
      "RAM         : 3GB\n",
      "Storage     : 64GB\n",
      "----------------------------------------\n",
      "Samsung - Galaxy S21\n",
      "Screen Type : Touch Screen\n",
      "Network     : 4G/5G\n",
      "Dual SIM    : True\n",
      "Front Cam   : 10MP\n",
      "Rear Cam    : 64MP\n",
      "RAM         : 8GB\n",
      "Storage     : 128GB\n",
      "----------------------------------------\n",
      "Samsung - Galaxy A52\n",
      "Screen Type : Touch Screen\n",
      "Network     : 4G/5G\n",
      "Dual SIM    : True\n",
      "Front Cam   : 32MP\n",
      "Rear Cam    : 64MP\n",
      "RAM         : 6GB\n",
      "Storage     : 128GB\n",
      "----------------------------------------\n",
      "Calling 1234567890...\n",
      "Taking a selfie with 32MP front camera\n"
     ]
    }
   ],
   "source": [
    "# Apple phones\n",
    "iphone14 = Apple(\"iPhone 14\", False, \"12MP\", \"48MP\", \"4GB\", \"128GB\")\n",
    "iphoneSE = Apple(\"iPhone SE\", False, \"7MP\", \"12MP\", \"3GB\", \"64GB\")\n",
    "\n",
    "# Samsung phones\n",
    "galaxyS21 = Samsung(\"Galaxy S21\", True, \"10MP\", \"64MP\", \"8GB\", \"128GB\")\n",
    "galaxyA52 = Samsung(\"Galaxy A52\", True, \"32MP\", \"64MP\", \"6GB\", \"128GB\")\n",
    "\n",
    "# Display specs\n",
    "iphone14.get_specs()\n",
    "iphoneSE.get_specs()\n",
    "galaxyS21.get_specs()\n",
    "galaxyA52.get_specs()\n",
    "\n",
    "# Use functionality\n",
    "iphone14.make_call(\"1234567890\")\n",
    "galaxyA52.take_a_picture(\"front\")"
   ]
  }
 ],
 "metadata": {
  "kernelspec": {
   "display_name": "Python 3 (ipykernel)",
   "language": "python",
   "name": "python3"
  },
  "language_info": {
   "codemirror_mode": {
    "name": "ipython",
    "version": 3
   },
   "file_extension": ".py",
   "mimetype": "text/x-python",
   "name": "python",
   "nbconvert_exporter": "python",
   "pygments_lexer": "ipython3",
   "version": "3.11.4"
  }
 },
 "nbformat": 4,
 "nbformat_minor": 5
}
