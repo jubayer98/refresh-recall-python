{
 "cells": [
  {
   "cell_type": "markdown",
   "id": "4062aad8",
   "metadata": {},
   "source": [
    "1. Use format() function with 145 and 'o':"
   ]
  },
  {
   "cell_type": "code",
   "execution_count": 1,
   "id": "5b91c5db",
   "metadata": {},
   "outputs": [
    {
     "name": "stdout",
     "output_type": "stream",
     "text": [
      "Result of format(145, 'o'): 221\n"
     ]
    }
   ],
   "source": [
    "result = format(145, 'o')\n",
    "print(\"Result of format(145, 'o'):\", result)"
   ]
  },
  {
   "cell_type": "markdown",
   "id": "ed25d9b6",
   "metadata": {},
   "source": [
    "Explanation:\n",
    "The 'o' format converts the number into octal (base-8) representation.\n",
    "So, 145 in decimal is 221 in octal."
   ]
  },
  {
   "cell_type": "markdown",
   "id": "68886968",
   "metadata": {},
   "source": [
    "2. Area of a circular pond with radius = 84 meters\n",
    "\n",
    "    Formula: Area = π × r²\n",
    "\n",
    "    π ≈ 22 / 7"
   ]
  },
  {
   "cell_type": "code",
   "execution_count": 2,
   "id": "8aecbea0",
   "metadata": {},
   "outputs": [
    {
     "name": "stdout",
     "output_type": "stream",
     "text": [
      "Area of the pond: 22176.0 square meters\n"
     ]
    }
   ],
   "source": [
    "pi = 22 / 7\n",
    "radius = 84\n",
    "area = pi * (radius ** 2)\n",
    "print(\"Area of the pond:\", area, \"square meters\")"
   ]
  },
  {
   "cell_type": "markdown",
   "id": "51c0c88e",
   "metadata": {},
   "source": [
    "Bonus: Total water in liters (1.4 L per sq. meter)"
   ]
  },
  {
   "cell_type": "code",
   "execution_count": 3,
   "id": "b71f0239",
   "metadata": {},
   "outputs": [
    {
     "name": "stdout",
     "output_type": "stream",
     "text": [
      "Total water in the pond: 31046.399999999998 liters\n"
     ]
    }
   ],
   "source": [
    "water_per_sq_meter = 1.4\n",
    "total_water = area * water_per_sq_meter\n",
    "print(\"Total water in the pond:\", total_water, \"liters\")"
   ]
  },
  {
   "cell_type": "markdown",
   "id": "9a80719e",
   "metadata": {},
   "source": [
    "3. Speed when crossing 490 meters in 7 minutes\n",
    "\n",
    "    Convert 7 minutes to seconds: 7 × 60 = 420 seconds\n",
    "\n",
    "    Speed = Distance / Time"
   ]
  },
  {
   "cell_type": "code",
   "execution_count": 5,
   "id": "89e9e32a",
   "metadata": {},
   "outputs": [
    {
     "name": "stdout",
     "output_type": "stream",
     "text": [
      "Speed (in m/s) without decimal: 1\n"
     ]
    }
   ],
   "source": [
    "distance = 490\n",
    "time_minutes = 7\n",
    "time_seconds = time_minutes * 60\n",
    "\n",
    "speed = distance / time_seconds\n",
    "speed_no_decimal = int(speed)\n",
    "print(\"Speed (in m/s) without decimal:\", speed_no_decimal)"
   ]
  }
 ],
 "metadata": {
  "kernelspec": {
   "display_name": "Python 3",
   "language": "python",
   "name": "python3"
  },
  "language_info": {
   "codemirror_mode": {
    "name": "ipython",
    "version": 3
   },
   "file_extension": ".py",
   "mimetype": "text/x-python",
   "name": "python",
   "nbconvert_exporter": "python",
   "pygments_lexer": "ipython3",
   "version": "3.10.3"
  }
 },
 "nbformat": 4,
 "nbformat_minor": 5
}
