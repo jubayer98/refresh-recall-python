{
 "cells": [
  {
   "cell_type": "markdown",
   "id": "18e14a18-d8f1-44da-a123-e1a9cfb034b6",
   "metadata": {},
   "source": [
    "Assumed CSV Format (student_marks.csv):"
   ]
  },
  {
   "cell_type": "raw",
   "id": "1aafc6ca-f0c3-446e-a123-c20b0aa6df97",
   "metadata": {},
   "source": [
    "Name,Math,Science,English\n",
    "Alice,78,82,89\n",
    "Bob,65,70,72\n",
    "Charlie,90,88,84"
   ]
  },
  {
   "cell_type": "markdown",
   "id": "21a4d62e-657b-4abd-85e4-db540be444ba",
   "metadata": {},
   "source": [
    "Step-by-step Python Program:"
   ]
  },
  {
   "cell_type": "code",
   "execution_count": 1,
   "id": "acf17b00-c949-43fe-8fee-ae0cd1dcb62c",
   "metadata": {},
   "outputs": [
    {
     "ename": "FileNotFoundError",
     "evalue": "[Errno 2] No such file or directory: 'student_marks.csv'",
     "output_type": "error",
     "traceback": [
      "\u001b[0;31m---------------------------------------------------------------------------\u001b[0m",
      "\u001b[0;31mFileNotFoundError\u001b[0m                         Traceback (most recent call last)",
      "Cell \u001b[0;32mIn[1], line 9\u001b[0m\n\u001b[1;32m      5\u001b[0m output_file \u001b[38;5;241m=\u001b[39m \u001b[38;5;124m\"\u001b[39m\u001b[38;5;124mstudent_marks_with_totals.csv\u001b[39m\u001b[38;5;124m\"\u001b[39m\n\u001b[1;32m      7\u001b[0m students \u001b[38;5;241m=\u001b[39m []\n\u001b[0;32m----> 9\u001b[0m \u001b[38;5;28;01mwith\u001b[39;00m \u001b[38;5;28;43mopen\u001b[39;49m\u001b[43m(\u001b[49m\u001b[43minput_file\u001b[49m\u001b[43m,\u001b[49m\u001b[43m \u001b[49m\u001b[43mmode\u001b[49m\u001b[38;5;241;43m=\u001b[39;49m\u001b[38;5;124;43m'\u001b[39;49m\u001b[38;5;124;43mr\u001b[39;49m\u001b[38;5;124;43m'\u001b[39;49m\u001b[43m)\u001b[49m \u001b[38;5;28;01mas\u001b[39;00m file:\n\u001b[1;32m     10\u001b[0m     reader \u001b[38;5;241m=\u001b[39m csv\u001b[38;5;241m.\u001b[39mDictReader(file)\n\u001b[1;32m     12\u001b[0m     \u001b[38;5;28;01mfor\u001b[39;00m row \u001b[38;5;129;01min\u001b[39;00m reader:\n\u001b[1;32m     13\u001b[0m         \u001b[38;5;66;03m# Convert marks to integers\u001b[39;00m\n",
      "File \u001b[0;32m~/miniconda3/lib/python3.11/site-packages/IPython/core/interactiveshell.py:286\u001b[0m, in \u001b[0;36m_modified_open\u001b[0;34m(file, *args, **kwargs)\u001b[0m\n\u001b[1;32m    279\u001b[0m \u001b[38;5;28;01mif\u001b[39;00m file \u001b[38;5;129;01min\u001b[39;00m {\u001b[38;5;241m0\u001b[39m, \u001b[38;5;241m1\u001b[39m, \u001b[38;5;241m2\u001b[39m}:\n\u001b[1;32m    280\u001b[0m     \u001b[38;5;28;01mraise\u001b[39;00m \u001b[38;5;167;01mValueError\u001b[39;00m(\n\u001b[1;32m    281\u001b[0m         \u001b[38;5;124mf\u001b[39m\u001b[38;5;124m\"\u001b[39m\u001b[38;5;124mIPython won\u001b[39m\u001b[38;5;124m'\u001b[39m\u001b[38;5;124mt let you open fd=\u001b[39m\u001b[38;5;132;01m{\u001b[39;00mfile\u001b[38;5;132;01m}\u001b[39;00m\u001b[38;5;124m by default \u001b[39m\u001b[38;5;124m\"\u001b[39m\n\u001b[1;32m    282\u001b[0m         \u001b[38;5;124m\"\u001b[39m\u001b[38;5;124mas it is likely to crash IPython. If you know what you are doing, \u001b[39m\u001b[38;5;124m\"\u001b[39m\n\u001b[1;32m    283\u001b[0m         \u001b[38;5;124m\"\u001b[39m\u001b[38;5;124myou can use builtins\u001b[39m\u001b[38;5;124m'\u001b[39m\u001b[38;5;124m open.\u001b[39m\u001b[38;5;124m\"\u001b[39m\n\u001b[1;32m    284\u001b[0m     )\n\u001b[0;32m--> 286\u001b[0m \u001b[38;5;28;01mreturn\u001b[39;00m \u001b[43mio_open\u001b[49m\u001b[43m(\u001b[49m\u001b[43mfile\u001b[49m\u001b[43m,\u001b[49m\u001b[43m \u001b[49m\u001b[38;5;241;43m*\u001b[39;49m\u001b[43margs\u001b[49m\u001b[43m,\u001b[49m\u001b[43m \u001b[49m\u001b[38;5;241;43m*\u001b[39;49m\u001b[38;5;241;43m*\u001b[39;49m\u001b[43mkwargs\u001b[49m\u001b[43m)\u001b[49m\n",
      "\u001b[0;31mFileNotFoundError\u001b[0m: [Errno 2] No such file or directory: 'student_marks.csv'"
     ]
    }
   ],
   "source": [
    "import csv\n",
    "\n",
    "# Step 1: Open the file and read the data\n",
    "input_file = \"student_marks.csv\"\n",
    "output_file = \"student_marks_with_totals.csv\"\n",
    "\n",
    "students = []\n",
    "\n",
    "with open(input_file, mode='r') as file:\n",
    "    reader = csv.DictReader(file)\n",
    "    \n",
    "    for row in reader:\n",
    "        # Convert marks to integers\n",
    "        math = int(row['Math'])\n",
    "        science = int(row['Science'])\n",
    "        english = int(row['English'])\n",
    "        \n",
    "        # Calculate total and average\n",
    "        total = math + science + english\n",
    "        average = round(total / 3, 2)\n",
    "        \n",
    "        # Add new fields\n",
    "        row['Total_Marks'] = total\n",
    "        row['Average'] = average\n",
    "        \n",
    "        students.append(row)\n",
    "\n",
    "# Step 2: Write to a new CSV file\n",
    "fieldnames = ['Name', 'Math', 'Science', 'English', 'Total_Marks', 'Average']\n",
    "\n",
    "with open(output_file, mode='w', newline='') as file:\n",
    "    writer = csv.DictWriter(file, fieldnames=fieldnames)\n",
    "    \n",
    "    writer.writeheader()\n",
    "    writer.writerows(students)\n",
    "\n",
    "print(f\"New file '{output_file}' has been created with total and average marks.\")"
   ]
  },
  {
   "cell_type": "markdown",
   "id": "9e72f882-8140-4a2c-b13a-a2f96471cfff",
   "metadata": {},
   "source": [
    "Output File: student_marks_with_totals.csv"
   ]
  },
  {
   "cell_type": "raw",
   "id": "29151522-de1d-4c47-8b69-d51fc222c387",
   "metadata": {},
   "source": [
    "Name,Math,Science,English,Total_Marks,Average\n",
    "Alice,78,82,89,249,83.0\n",
    "Bob,65,70,72,207,69.0\n",
    "Charlie,90,88,84,262,87.33"
   ]
  }
 ],
 "metadata": {
  "kernelspec": {
   "display_name": "Python 3 (ipykernel)",
   "language": "python",
   "name": "python3"
  },
  "language_info": {
   "codemirror_mode": {
    "name": "ipython",
    "version": 3
   },
   "file_extension": ".py",
   "mimetype": "text/x-python",
   "name": "python",
   "nbconvert_exporter": "python",
   "pygments_lexer": "ipython3",
   "version": "3.11.4"
  }
 },
 "nbformat": 4,
 "nbformat_minor": 5
}
