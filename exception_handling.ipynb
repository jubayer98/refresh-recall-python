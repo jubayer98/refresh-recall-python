{
 "cells": [
  {
   "cell_type": "markdown",
   "id": "0eaa3644-4527-49a4-b477-a7d43ff6644b",
   "metadata": {},
   "source": [
    "Part 1: Handle List Indexing Exception"
   ]
  },
  {
   "cell_type": "markdown",
   "id": "cd660acf-2fa6-440e-a249-904a488ff745",
   "metadata": {},
   "source": [
    "Original Code:"
   ]
  },
  {
   "cell_type": "code",
   "execution_count": 1,
   "id": "932ba866-77cc-4e23-a4b8-3274c2bda3d6",
   "metadata": {},
   "outputs": [
    {
     "name": "stdin",
     "output_type": "stream",
     "text": [
      "Enter numbers:  1\n",
      "Enter Index:  2\n"
     ]
    },
    {
     "ename": "IndexError",
     "evalue": "list index out of range",
     "output_type": "error",
     "traceback": [
      "\u001b[0;31m---------------------------------------------------------------------------\u001b[0m",
      "\u001b[0;31mIndexError\u001b[0m                                Traceback (most recent call last)",
      "Cell \u001b[0;32mIn[1], line 3\u001b[0m\n\u001b[1;32m      1\u001b[0m lst \u001b[38;5;241m=\u001b[39m [\u001b[38;5;28mint\u001b[39m(x) \u001b[38;5;28;01mfor\u001b[39;00m x \u001b[38;5;129;01min\u001b[39;00m \u001b[38;5;28minput\u001b[39m(\u001b[38;5;124m\"\u001b[39m\u001b[38;5;124mEnter numbers: \u001b[39m\u001b[38;5;124m\"\u001b[39m)\u001b[38;5;241m.\u001b[39msplit()]\n\u001b[1;32m      2\u001b[0m i \u001b[38;5;241m=\u001b[39m \u001b[38;5;28mint\u001b[39m(\u001b[38;5;28minput\u001b[39m(\u001b[38;5;124m\"\u001b[39m\u001b[38;5;124mEnter Index: \u001b[39m\u001b[38;5;124m\"\u001b[39m))\n\u001b[0;32m----> 3\u001b[0m \u001b[38;5;28mprint\u001b[39m(\u001b[43mlst\u001b[49m\u001b[43m[\u001b[49m\u001b[43mi\u001b[49m\u001b[43m]\u001b[49m)\n",
      "\u001b[0;31mIndexError\u001b[0m: list index out of range"
     ]
    }
   ],
   "source": [
    "lst = [int(x) for x in input(\"Enter numbers: \").split()]\n",
    "i = int(input(\"Enter Index: \"))\n",
    "print(lst[i])"
   ]
  },
  {
   "cell_type": "markdown",
   "id": "84ade6ef-595c-4a26-b928-45b3d1c37751",
   "metadata": {},
   "source": [
    "Improved Code with Exception Handling:"
   ]
  },
  {
   "cell_type": "code",
   "execution_count": 2,
   "id": "b5f8316e-2363-4318-8f60-ac10caf7684a",
   "metadata": {},
   "outputs": [
    {
     "name": "stdin",
     "output_type": "stream",
     "text": [
      "Enter numbers:  1\n",
      "Enter Index:  2\n"
     ]
    },
    {
     "name": "stdout",
     "output_type": "stream",
     "text": [
      "Invalid index! The index is out of range.\n"
     ]
    }
   ],
   "source": [
    "try:\n",
    "    lst = [int(x) for x in input(\"Enter numbers: \").split()]\n",
    "    i = int(input(\"Enter Index: \"))\n",
    "    print(lst[i])\n",
    "except ValueError:\n",
    "    print(\"Please enter valid integers only.\")\n",
    "except IndexError:\n",
    "    print(\"Invalid index! The index is out of range.\")\n",
    "except Exception as e:\n",
    "    print(\"An unexpected error occurred:\", e)"
   ]
  },
  {
   "cell_type": "markdown",
   "id": "46ef24c5-304b-4da6-ad1d-1ded40243b96",
   "metadata": {},
   "source": [
    "Part 2: Handle Missing Dictionary Key for Middle Name"
   ]
  },
  {
   "cell_type": "markdown",
   "id": "ce3f8e2f-369e-4c71-b69c-129abd813fac",
   "metadata": {},
   "source": [
    "Original Problem:"
   ]
  },
  {
   "cell_type": "code",
   "execution_count": 3,
   "id": "823727d6-68da-4c55-8ee7-a8d6a255d084",
   "metadata": {},
   "outputs": [],
   "source": [
    "employees = [\n",
    "    {\"id\": 1, \"first_name\": \"Tony\", \"middle_name\": \"Edward\", \"last_name\": \"Stark\"},\n",
    "    {\"id\": 2, \"first_name\": \"Bruce\", \"last_name\": \"Banner\"},\n",
    "    {\"id\": 3, \"first_name\": \"Steve\", \"middle_name\": \"Grant\", \"last_name\": \"Rogers\"},\n",
    "]"
   ]
  },
  {
   "cell_type": "markdown",
   "id": "2fec7d96-1cba-4a53-832e-6fd77d97d204",
   "metadata": {},
   "source": [
    "Safe Access Using try...except:"
   ]
  },
  {
   "cell_type": "code",
   "execution_count": 4,
   "id": "a62cb229-99db-4ed1-a7d4-27cd989d6b42",
   "metadata": {},
   "outputs": [
    {
     "name": "stdout",
     "output_type": "stream",
     "text": [
      "Tony Edward Stark\n",
      "Bruce Banner\n",
      "Steve Grant Rogers\n"
     ]
    }
   ],
   "source": [
    "for employee in employees:\n",
    "    try:\n",
    "        full_name = employee['first_name'] + \" \" + employee['middle_name'] + \" \" + employee['last_name']\n",
    "    except KeyError:\n",
    "        full_name = employee['first_name'] + \" \" + employee['last_name']\n",
    "    print(full_name)"
   ]
  },
  {
   "cell_type": "markdown",
   "id": "9cef5b28-4f71-434a-b8ff-95a0d02535dd",
   "metadata": {},
   "source": [
    "Optional: Cleaner Approach Using .get() (No Exception Needed)"
   ]
  },
  {
   "cell_type": "code",
   "execution_count": 5,
   "id": "5ffcdf75-cba5-4f6c-8c60-3f7616db448e",
   "metadata": {},
   "outputs": [
    {
     "name": "stdout",
     "output_type": "stream",
     "text": [
      "Tony Edward Stark\n",
      "Bruce  Banner\n",
      "Steve Grant Rogers\n"
     ]
    }
   ],
   "source": [
    "for employee in employees:\n",
    "    middle = employee.get('middle_name', '')\n",
    "    full_name = employee['first_name'] + \" \" + middle + \" \" + employee['last_name']\n",
    "    print(full_name.strip())"
   ]
  }
 ],
 "metadata": {
  "kernelspec": {
   "display_name": "Python 3 (ipykernel)",
   "language": "python",
   "name": "python3"
  },
  "language_info": {
   "codemirror_mode": {
    "name": "ipython",
    "version": 3
   },
   "file_extension": ".py",
   "mimetype": "text/x-python",
   "name": "python",
   "nbconvert_exporter": "python",
   "pygments_lexer": "ipython3",
   "version": "3.11.4"
  }
 },
 "nbformat": 4,
 "nbformat_minor": 5
}
