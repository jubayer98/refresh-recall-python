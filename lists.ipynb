{
 "cells": [
  {
   "cell_type": "markdown",
   "id": "505cc6ea",
   "metadata": {},
   "source": [
    "Step 1: Initial Avengers list"
   ]
  },
  {
   "cell_type": "code",
   "execution_count": 1,
   "id": "3d22e527",
   "metadata": {},
   "outputs": [],
   "source": [
    "avengers = [\"Iron Man\", \"Captain America\", \"Black Widow\", \"Hulk\", \"Thor\", \"Hawkeye\"]"
   ]
  },
  {
   "cell_type": "markdown",
   "id": "71bcb7ec",
   "metadata": {},
   "source": [
    "Step 2: Count how many members are in the Avengers team"
   ]
  },
  {
   "cell_type": "code",
   "execution_count": 2,
   "id": "8a3c00a9",
   "metadata": {},
   "outputs": [
    {
     "name": "stdout",
     "output_type": "stream",
     "text": [
      "Number of Avengers: 6\n"
     ]
    }
   ],
   "source": [
    "print(\"Number of Avengers:\", len(avengers))"
   ]
  },
  {
   "cell_type": "markdown",
   "id": "ff831e90",
   "metadata": {},
   "source": [
    "Step 3: Add Spider-Man to the list"
   ]
  },
  {
   "cell_type": "code",
   "execution_count": 3,
   "id": "55e5e89d",
   "metadata": {},
   "outputs": [],
   "source": [
    "avengers.append(\"Spider-Man\")"
   ]
  },
  {
   "cell_type": "markdown",
   "id": "43bc4a86",
   "metadata": {},
   "source": [
    "Step 4: Move Captain America before Iron Man"
   ]
  },
  {
   "cell_type": "code",
   "execution_count": 4,
   "id": "16dbcc7e",
   "metadata": {},
   "outputs": [],
   "source": [
    "avengers.remove(\"Captain America\")\n",
    "iron_man_index = avengers.index(\"Iron Man\")\n",
    "avengers.insert(iron_man_index, \"Captain America\")"
   ]
  },
  {
   "cell_type": "markdown",
   "id": "b3e61904",
   "metadata": {},
   "source": [
    "Step 5: Separate Thor and Hulk by moving Black Widow or Hawkeye between them"
   ]
  },
  {
   "cell_type": "code",
   "execution_count": 5,
   "id": "3d4e59bd",
   "metadata": {},
   "outputs": [],
   "source": [
    "avengers.remove(\"Black Widow\")\n",
    "hulk_index = avengers.index(\"Hulk\")\n",
    "avengers.insert(hulk_index + 1, \"Black Widow\")"
   ]
  },
  {
   "cell_type": "markdown",
   "id": "e02ec151",
   "metadata": {},
   "source": [
    "Step 6: Retire original six and add new superheroes\n",
    "    \n",
    "    Original six: Iron Man, Captain America, Black Widow, Hulk, Thor, Hawkeye"
   ]
  },
  {
   "cell_type": "code",
   "execution_count": 6,
   "id": "882effa2",
   "metadata": {},
   "outputs": [],
   "source": [
    "# Remove original six\n",
    "for hero in [\"Iron Man\", \"Captain America\", \"Black Widow\", \"Hulk\", \"Thor\", \"Hawkeye\"]:\n",
    "    if hero in avengers:\n",
    "        avengers.remove(hero)\n",
    "\n",
    "# Add new heroes\n",
    "avengers.extend([\"Doctor Strange\", \"Vision\", \"Wanda\", \"Kate Bishop\", \"Ant-Man\"])"
   ]
  },
  {
   "cell_type": "markdown",
   "id": "5142c707",
   "metadata": {},
   "source": [
    "Step 7: Sort the list alphabetically to decide the new leader"
   ]
  },
  {
   "cell_type": "code",
   "execution_count": 7,
   "id": "19cdd0bf",
   "metadata": {},
   "outputs": [
    {
     "name": "stdout",
     "output_type": "stream",
     "text": [
      "Sorted Avengers List: ['Ant-Man', 'Doctor Strange', 'Kate Bishop', 'Spider-Man', 'Vision', 'Wanda']\n",
      "New Leader of the Avengers: Ant-Man\n"
     ]
    }
   ],
   "source": [
    "avengers.sort()\n",
    "print(\"Sorted Avengers List:\", avengers)\n",
    "print(\"New Leader of the Avengers:\", avengers[0])"
   ]
  }
 ],
 "metadata": {
  "kernelspec": {
   "display_name": "Python 3",
   "language": "python",
   "name": "python3"
  },
  "language_info": {
   "codemirror_mode": {
    "name": "ipython",
    "version": 3
   },
   "file_extension": ".py",
   "mimetype": "text/x-python",
   "name": "python",
   "nbconvert_exporter": "python",
   "pygments_lexer": "ipython3",
   "version": "3.10.3"
  }
 },
 "nbformat": 4,
 "nbformat_minor": 5
}
