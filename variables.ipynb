{
 "cells": [
  {
   "cell_type": "markdown",
   "id": "621a41a2",
   "metadata": {},
   "source": [
    "1. Create a variable pi and store the value 22/7 in it, then check its data type:"
   ]
  },
  {
   "cell_type": "code",
   "execution_count": 3,
   "id": "288512ab",
   "metadata": {},
   "outputs": [
    {
     "name": "stdout",
     "output_type": "stream",
     "text": [
      "Value of pi: 3.142857142857143\n",
      "Data type of pi: <class 'float'>\n"
     ]
    }
   ],
   "source": [
    "pi = 22 / 7\n",
    "print(\"Value of pi:\", pi)\n",
    "print(\"Data type of pi:\", type(pi))"
   ]
  },
  {
   "cell_type": "markdown",
   "id": "870332ef",
   "metadata": {},
   "source": [
    "2. Create a variable called for and assign it a value 4:"
   ]
  },
  {
   "cell_type": "code",
   "execution_count": 4,
   "id": "cd616efa",
   "metadata": {},
   "outputs": [
    {
     "ename": "SyntaxError",
     "evalue": "invalid syntax (2046953698.py, line 1)",
     "output_type": "error",
     "traceback": [
      "\u001b[0;36m  Cell \u001b[0;32mIn[4], line 1\u001b[0;36m\u001b[0m\n\u001b[0;31m    for = 4\u001b[0m\n\u001b[0m        ^\u001b[0m\n\u001b[0;31mSyntaxError\u001b[0m\u001b[0;31m:\u001b[0m invalid syntax\n"
     ]
    }
   ],
   "source": [
    "for = 4"
   ]
  },
  {
   "cell_type": "markdown",
   "id": "57002158",
   "metadata": {},
   "source": [
    "Why?\n",
    "for is a reserved keyword in Python, used for loops (e.g., for i in range(5):). You cannot use it as a variable name."
   ]
  },
  {
   "cell_type": "markdown",
   "id": "53a92d91",
   "metadata": {},
   "source": [
    "3. Calculate Simple Interest\n",
    "    \n",
    "    Let’s define:\n",
    "\n",
    "        Principal (P) = 1000\n",
    "\n",
    "        Rate of Interest (R) = 5%\n",
    "    \n",
    "        Time (T) = 3 years"
   ]
  },
  {
   "cell_type": "code",
   "execution_count": 6,
   "id": "53c73087",
   "metadata": {},
   "outputs": [
    {
     "name": "stdout",
     "output_type": "stream",
     "text": [
      "Simple Interest: 150.0\n"
     ]
    }
   ],
   "source": [
    "P = 1000  # principal amount\n",
    "R = 5     # rate of interest\n",
    "T = 3     # time in years\n",
    "\n",
    "simple_interest = (P * R * T) / 100\n",
    "print(\"Simple Interest:\", simple_interest)\n"
   ]
  }
 ],
 "metadata": {
  "kernelspec": {
   "display_name": "Python 3",
   "language": "python",
   "name": "python3"
  },
  "language_info": {
   "codemirror_mode": {
    "name": "ipython",
    "version": 3
   },
   "file_extension": ".py",
   "mimetype": "text/x-python",
   "name": "python",
   "nbconvert_exporter": "python",
   "pygments_lexer": "ipython3",
   "version": "3.10.3"
  }
 },
 "nbformat": 4,
 "nbformat_minor": 5
}
