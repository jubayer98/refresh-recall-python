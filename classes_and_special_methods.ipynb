{
 "cells": [
  {
   "cell_type": "markdown",
   "id": "4d63b045-b4a8-45aa-af92-2e6de249eb2c",
   "metadata": {},
   "source": [
    "Step 1: Define the Avenger class"
   ]
  },
  {
   "cell_type": "code",
   "execution_count": 1,
   "id": "6a579da1-61d4-46dc-816f-d192f838a97b",
   "metadata": {},
   "outputs": [],
   "source": [
    "class Avenger:\n",
    "    def __init__(self, name, age, gender, super_power, weapon):\n",
    "        self.name = name\n",
    "        self.age = age\n",
    "        self.gender = gender\n",
    "        self.super_power = super_power\n",
    "        self.weapon = weapon\n",
    "\n",
    "    def get_info(self):\n",
    "        print(f\"Name        : {self.name}\")\n",
    "        print(f\"Age         : {self.age}\")\n",
    "        print(f\"Gender      : {self.gender}\")\n",
    "        print(f\"Super Power : {self.super_power}\")\n",
    "        print(f\"Weapon      : {self.weapon}\")\n",
    "        print(\"-\" * 40)\n",
    "\n",
    "    def is_leader(self):\n",
    "        return self.name == \"Captain America\""
   ]
  },
  {
   "cell_type": "markdown",
   "id": "8e684f5a-dd49-41d8-b3e2-a0c17a3d0514",
   "metadata": {},
   "source": [
    "Step 2: Create Superheroes using the class"
   ]
  },
  {
   "cell_type": "code",
   "execution_count": 3,
   "id": "98958327-12f8-4d13-9724-c3f5021692a4",
   "metadata": {},
   "outputs": [],
   "source": [
    "super_heroes = [\n",
    "    Avenger(\"Captain America\", 100, \"Male\", \"Super Strength\", \"Shield\"),\n",
    "    Avenger(\"Iron Man\", 48, \"Male\", \"Technology\", \"Armor\"),\n",
    "    Avenger(\"Black Widow\", 35, \"Female\", \"Superhuman\", \"Batons\"),\n",
    "    Avenger(\"Hulk\", 40, \"Male\", \"Unlimited Strength\", \"No Weapon\"),\n",
    "    Avenger(\"Thor\", 1500, \"Male\", \"Super Energy\", \"Mjölnir\"),\n",
    "    Avenger(\"Hawkeye\", 41, \"Male\", \"Fighting Skills\", \"Bow and Arrows\")\n",
    "]"
   ]
  },
  {
   "cell_type": "markdown",
   "id": "e7eea5c7-1975-40f0-bc93-d205b921a07f",
   "metadata": {},
   "source": [
    "Step 3: Display information and check for leader"
   ]
  },
  {
   "cell_type": "code",
   "execution_count": 4,
   "id": "a16c97cc-ea08-4367-8542-ec3abaa28c35",
   "metadata": {},
   "outputs": [
    {
     "name": "stdout",
     "output_type": "stream",
     "text": [
      "Name        : Captain America\n",
      "Age         : 100\n",
      "Gender      : Male\n",
      "Super Power : Super Strength\n",
      "Weapon      : Shield\n",
      "----------------------------------------\n",
      "Captain America is the leader of the Avengers.\n",
      "\n",
      "Name        : Iron Man\n",
      "Age         : 48\n",
      "Gender      : Male\n",
      "Super Power : Technology\n",
      "Weapon      : Armor\n",
      "----------------------------------------\n",
      "Iron Man is a team member.\n",
      "\n",
      "Name        : Black Widow\n",
      "Age         : 35\n",
      "Gender      : Female\n",
      "Super Power : Superhuman\n",
      "Weapon      : Batons\n",
      "----------------------------------------\n",
      "Black Widow is a team member.\n",
      "\n",
      "Name        : Hulk\n",
      "Age         : 40\n",
      "Gender      : Male\n",
      "Super Power : Unlimited Strength\n",
      "Weapon      : No Weapon\n",
      "----------------------------------------\n",
      "Hulk is a team member.\n",
      "\n",
      "Name        : Thor\n",
      "Age         : 1500\n",
      "Gender      : Male\n",
      "Super Power : Super Energy\n",
      "Weapon      : Mjölnir\n",
      "----------------------------------------\n",
      "Thor is a team member.\n",
      "\n",
      "Name        : Hawkeye\n",
      "Age         : 41\n",
      "Gender      : Male\n",
      "Super Power : Fighting Skills\n",
      "Weapon      : Bow and Arrows\n",
      "----------------------------------------\n",
      "Hawkeye is a team member.\n",
      "\n"
     ]
    }
   ],
   "source": [
    "for hero in super_heroes:\n",
    "    hero.get_info()\n",
    "    if hero.is_leader():\n",
    "        print(f\"{hero.name} is the leader of the Avengers.\\n\")\n",
    "    else:\n",
    "        print(f\"{hero.name} is a team member.\\n\")"
   ]
  }
 ],
 "metadata": {
  "kernelspec": {
   "display_name": "Python 3 (ipykernel)",
   "language": "python",
   "name": "python3"
  },
  "language_info": {
   "codemirror_mode": {
    "name": "ipython",
    "version": 3
   },
   "file_extension": ".py",
   "mimetype": "text/x-python",
   "name": "python",
   "nbconvert_exporter": "python",
   "pygments_lexer": "ipython3",
   "version": "3.11.4"
  }
 },
 "nbformat": 4,
 "nbformat_minor": 5
}
